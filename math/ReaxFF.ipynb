{
 "cells": [
  {
   "cell_type": "code",
   "execution_count": 2,
   "id": "429dfb76",
   "metadata": {},
   "outputs": [],
   "source": [
    "from sympy import *\n",
    "from sympy.geometry.point import *"
   ]
  },
  {
   "cell_type": "code",
   "execution_count": 3,
   "id": "7a53e0cf",
   "metadata": {},
   "outputs": [],
   "source": [
    "init_printing()"
   ]
  },
  {
   "cell_type": "code",
   "execution_count": 76,
   "id": "926d50ee",
   "metadata": {},
   "outputs": [],
   "source": [
    "De = Symbol('De')\n",
    "p_be1 = Symbol('p_be,1')\n",
    "p_be2 = Symbol('p_be,2')\n",
    "p_bo1 = Symbol('p_bo,1')\n",
    "p_bo2 = Symbol('p_bo,2')\n",
    "p_bo3 = Symbol('p_bo,3')\n",
    "p_bo4 = Symbol('p_bo,4')\n",
    "p_bo5 = Symbol('p_bo,5')\n",
    "p_bo6 = Symbol('p_bo,6')\n",
    "\n",
    "r0 = Symbol('r_0')\n",
    "r0pi = Symbol('r_0,\\pi')\n",
    "r0pipi = Symbol('r_0,\\pi\\pi')\n",
    "p_over = Symbol('p_over')\n",
    "p_under = Symbol('p_under')\n",
    "eta = Symbol('\\eta')\n",
    "chi = Symbol('\\chi')\n",
    "gamma = Symbol('\\gamma')\n",
    "I = Symbol('I')\n",
    "\n",
    "lambda1 = Symbol('\\lambda_1')\n",
    "lambda2 = Symbol('\\lambda_2')\n",
    "lambda3 = Symbol('\\lambda_3')\n",
    "lambda4 = Symbol('\\lambda_4')\n",
    "lambda5 = Symbol('\\lambda_5')\n",
    "lambda6 = Symbol('\\lambda_6')\n",
    "lambda7 = Symbol('\\lambda_7')\n",
    "lambda8 = Symbol('\\lambda_8')\n",
    "lambda9 = Symbol('\\lambda_9')\n",
    "lambda10 = Symbol('\\lambda_10')\n",
    "lambda11 = Symbol('\\lambda_11')\n",
    "lambda12 = Symbol('\\lambda_12')\n",
    "lambda13 = Symbol('\\lambda_13')\n",
    "lambda14 = Symbol('\\lambda_14')\n",
    "lambda15 = Symbol('\\lambda_15')\n",
    "lambda16 = Symbol('\\lambda_16')\n",
    "lambda17 = Symbol('\\lambda_17')\n",
    "lambda18 = Symbol('\\lambda_18')\n",
    "lambda19 = Symbol('\\lambda_19')\n",
    "lambda20 = Symbol('\\lambda_20')\n",
    "lambda21 = Symbol('\\lambda_21')\n",
    "lambda22 = Symbol('\\lambda_22')\n",
    "lambda23 = Symbol('\\lambda_23')\n",
    "lambda24 = Symbol('\\lambda_24')\n",
    "lambda25 = Symbol('\\lambda_25')\n",
    "lambda26 = Symbol('\\lambda_26')\n",
    "lambda27 = Symbol('\\lambda_27')\n",
    "lambda28 = Symbol('\\lambda_28')\n",
    "\n",
    "r_vdw = Symbol('r_vdW,ij')\n",
    "eps = Symbol('\\epsilon_ij')\n",
    "alpha = Symbol('\\\\alpha_ij') # needs double \\\\ for some reason\n",
    "gamma_w = Symbol('\\gamma_w,ij')\n",
    "\n",
    "\n",
    "nbond = Symbol('n_{bond}')\n",
    "\n",
    "Val_i = Symbol('Val_i')\n",
    "Val_j = Symbol('Val_j')\n",
    "\n",
    "x_i = Symbol('x_i', real=True)\n",
    "x_j = Symbol('x_j', real=True)\n",
    "y_i = Symbol('y_i', real=True)\n",
    "y_j = Symbol('y_j', real=True)\n",
    "i = Matrix([x_i, y_i])\n",
    "j = Matrix([x_j, y_j])"
   ]
  },
  {
   "cell_type": "code",
   "execution_count": 5,
   "id": "b1fdac02",
   "metadata": {},
   "outputs": [
    {
     "data": {
      "image/png": "[encoded data removed]",
      "text/latex": [
       "$\\displaystyle \\operatorname{r_{ij}}{\\left(x_{i},y_{i} \\right)} = \\sqrt{\\left(x_{i} - x_{j}\\right)^{2} + \\left(y_{i} - y_{j}\\right)^{2}}$"
      ],
      "text/plain": [
       "                  ___________________________\n",
       "                 ╱           2             2 \n",
       "r_ij(xᵢ, yᵢ) = ╲╱  (xᵢ - x_j)  + (yᵢ - y_j)  "
      ]
     },
     "execution_count": 5,
     "metadata": {},
     "output_type": "execute_result"
    }
   ],
   "source": [
    "r = lambda i, j: (i - j).norm()\n",
    "r_ij = Function(Symbol('r_ij'))\n",
    "Eq(r_ij(x_i, y_i), r(i, j))"
   ]
  },
  {
   "cell_type": "code",
   "execution_count": 6,
   "id": "79c1929a",
   "metadata": {
    "scrolled": true
   },
   "outputs": [
    {
     "data": {
      "text/latex": [
       "$\\displaystyle \\left[\\begin{matrix}\\frac{x_{i} - x_{j}}{\\sqrt{\\left(x_{i} - x_{j}\\right)^{2} + \\left(y_{i} - y_{j}\\right)^{2}}}\\\\\\frac{y_{i} - y_{j}}{\\sqrt{\\left(x_{i} - x_{j}\\right)^{2} + \\left(y_{i} - y_{j}\\right)^{2}}}\\end{matrix}\\right]$"
      ],
      "text/plain": [
       "⎡           xᵢ - x_j           ⎤\n",
       "⎢──────────────────────────────⎥\n",
       "⎢   ___________________________⎥\n",
       "⎢  ╱           2             2 ⎥\n",
       "⎢╲╱  (xᵢ - x_j)  + (yᵢ - y_j)  ⎥\n",
       "⎢                              ⎥\n",
       "⎢           yᵢ - y_j           ⎥\n",
       "⎢──────────────────────────────⎥\n",
       "⎢   ___________________________⎥\n",
       "⎢  ╱           2             2 ⎥\n",
       "⎣╲╱  (xᵢ - x_j)  + (yᵢ - y_j)  ⎦"
      ]
     },
     "execution_count": 6,
     "metadata": {},
     "output_type": "execute_result"
    }
   ],
   "source": [
    "diff(r(i, j), i).simplify()"
   ]
  },
  {
   "cell_type": "code",
   "execution_count": 34,
   "id": "b7f8ced0",
   "metadata": {
    "scrolled": true
   },
   "outputs": [
    {
     "data": {
      "image/png": "[encoded data removed]",
      "text/latex": [
       "$\\displaystyle \\operatorname{BOʼ_{ij}}{\\left(x_{i},y_{i} \\right)} = e^{p_{bo,1} \\left(\\frac{\\operatorname{r_{ij}}{\\left(x_{i},x_{j} \\right)}}{r_{0}}\\right)^{p_{bo,2}}} + e^{p_{bo,3} \\left(\\frac{\\operatorname{r_{ij}}{\\left(x_{i},x_{j} \\right)}}{r_{0,\\pi}}\\right)^{p_{bo,4}}} + e^{p_{bo,5} \\left(\\frac{\\operatorname{r_{ij}}{\\left(x_{i},x_{j} \\right)}}{r_{0,\\pi\\pi}}\\right)^{p_{bo,6}}}$"
      ],
      "text/plain": [
       "                                        p_bo,2                          p_bo,4                          p_bo,6\n",
       "                         ⎛r_ij(xᵢ, x_j)⎞                 ⎛r_ij(xᵢ, x_j)⎞                 ⎛r_ij(xᵢ, x_j)⎞      \n",
       "                  p_bo,1⋅⎜─────────────⎟          p_bo,3⋅⎜─────────────⎟          p_bo,5⋅⎜─────────────⎟      \n",
       "                         ⎝      r₀     ⎠                 ⎝   r_0,\\pi   ⎠                 ⎝  r_0,\\pi\\pi ⎠      \n",
       "BOʼ_ij(xᵢ, yᵢ) = ℯ                             + ℯ                             + ℯ                            "
      ]
     },
     "execution_count": 34,
     "metadata": {},
     "output_type": "execute_result"
    }
   ],
   "source": [
    "BOʼ = lambda r_ij: exp(p_bo1 * (r_ij/r0)**p_bo2) +\\\n",
    "                   exp(p_bo3 * (r_ij/r0pi)**p_bo4) +\\\n",
    "                   exp(p_bo5 * (r_ij/r0pipi)**p_bo6)\n",
    "BOʼij = Function('BOʼ_ij')\n",
    "Eq(BOʼij(x_i, y_i), BOʼ(r_ij(x_i, x_j)))"
   ]
  },
  {
   "cell_type": "code",
   "execution_count": 35,
   "id": "90205bd5",
   "metadata": {},
   "outputs": [
    {
     "data": {
      "text/latex": [
       "$\\displaystyle \\left[\\begin{matrix}\\frac{\\left(p_{bo,1} p_{bo,2} \\left(\\frac{\\operatorname{r_{ij}}{\\left(x_{i},y_{i} \\right)}}{r_{0}}\\right)^{p_{bo,2}} e^{p_{bo,1} \\left(\\frac{\\operatorname{r_{ij}}{\\left(x_{i},y_{i} \\right)}}{r_{0}}\\right)^{p_{bo,2}}} + p_{bo,3} p_{bo,4} \\left(\\frac{\\operatorname{r_{ij}}{\\left(x_{i},y_{i} \\right)}}{r_{0,\\pi}}\\right)^{p_{bo,4}} e^{p_{bo,3} \\left(\\frac{\\operatorname{r_{ij}}{\\left(x_{i},y_{i} \\right)}}{r_{0,\\pi}}\\right)^{p_{bo,4}}} + p_{bo,5} p_{bo,6} \\left(\\frac{\\operatorname{r_{ij}}{\\left(x_{i},y_{i} \\right)}}{r_{0,\\pi\\pi}}\\right)^{p_{bo,6}} e^{p_{bo,5} \\left(\\frac{\\operatorname{r_{ij}}{\\left(x_{i},y_{i} \\right)}}{r_{0,\\pi\\pi}}\\right)^{p_{bo,6}}}\\right) \\frac{\\partial}{\\partial x_{i}} \\operatorname{r_{ij}}{\\left(x_{i},y_{i} \\right)}}{\\operatorname{r_{ij}}{\\left(x_{i},y_{i} \\right)}}\\\\\\frac{\\left(p_{bo,1} p_{bo,2} \\left(\\frac{\\operatorname{r_{ij}}{\\left(x_{i},y_{i} \\right)}}{r_{0}}\\right)^{p_{bo,2}} e^{p_{bo,1} \\left(\\frac{\\operatorname{r_{ij}}{\\left(x_{i},y_{i} \\right)}}{r_{0}}\\right)^{p_{bo,2}}} + p_{bo,3} p_{bo,4} \\left(\\frac{\\operatorname{r_{ij}}{\\left(x_{i},y_{i} \\right)}}{r_{0,\\pi}}\\right)^{p_{bo,4}} e^{p_{bo,3} \\left(\\frac{\\operatorname{r_{ij}}{\\left(x_{i},y_{i} \\right)}}{r_{0,\\pi}}\\right)^{p_{bo,4}}} + p_{bo,5} p_{bo,6} \\left(\\frac{\\operatorname{r_{ij}}{\\left(x_{i},y_{i} \\right)}}{r_{0,\\pi\\pi}}\\right)^{p_{bo,6}} e^{p_{bo,5} \\left(\\frac{\\operatorname{r_{ij}}{\\left(x_{i},y_{i} \\right)}}{r_{0,\\pi\\pi}}\\right)^{p_{bo,6}}}\\right) \\frac{\\partial}{\\partial y_{i}} \\operatorname{r_{ij}}{\\left(x_{i},y_{i} \\right)}}{\\operatorname{r_{ij}}{\\left(x_{i},y_{i} \\right)}}\\end{matrix}\\right]$"
      ],
      "text/plain": [
       "⎡⎛                                                         p_bo,2                                                            p_bo,4                                                            p_bo,6⎞                  ⎤\n",
       "⎢⎜                                           ⎛r_ij(xᵢ, yᵢ)⎞                                                    ⎛r_ij(xᵢ, yᵢ)⎞                                                    ⎛r_ij(xᵢ, yᵢ)⎞      ⎟                  ⎥\n",
       "⎢⎜                            p_bo,2  p_bo,1⋅⎜────────────⎟                                     p_bo,4  p_bo,3⋅⎜────────────⎟                                     p_bo,6  p_bo,5⋅⎜────────────⎟      ⎟                  ⎥\n",
       "⎢⎜              ⎛r_ij(xᵢ, yᵢ)⎞               ⎝     r₀     ⎠                       ⎛r_ij(xᵢ, yᵢ)⎞               ⎝  r_0,\\pi   ⎠                       ⎛r_ij(xᵢ, yᵢ)⎞               ⎝ r_0,\\pi\\pi ⎠      ⎟  ∂               ⎥\n",
       "⎢⎜p_bo,1⋅p_bo,2⋅⎜────────────⎟      ⋅ℯ                            + p_bo,3⋅p_bo,4⋅⎜────────────⎟      ⋅ℯ                            + p_bo,5⋅p_bo,6⋅⎜────────────⎟      ⋅ℯ                           ⎟⋅───(r_ij(xᵢ, yᵢ))⎥\n",
       "⎢⎝              ⎝     r₀     ⎠                                                    ⎝  r_0,\\pi   ⎠                                                    ⎝ r_0,\\pi\\pi ⎠                                   ⎠ ∂xᵢ              ⎥\n",
       "⎢───────────────────────────────────────────────────────────────────────────────────────────────────────────────────────────────────────────────────────────────────────────────────────────────────────────────────────⎥\n",
       "⎢                                                                                                      r_ij(xᵢ, yᵢ)                                                                                                     ⎥\n",
       "⎢                                                                                                                                                                                                                       ⎥\n",
       "⎢⎛                                                         p_bo,2                                                            p_bo,4                                                            p_bo,6⎞                  ⎥\n",
       "⎢⎜                                           ⎛r_ij(xᵢ, yᵢ)⎞                                                    ⎛r_ij(xᵢ, yᵢ)⎞                                                    ⎛r_ij(xᵢ, yᵢ)⎞      ⎟                  ⎥\n",
       "⎢⎜                            p_bo,2  p_bo,1⋅⎜────────────⎟                                     p_bo,4  p_bo,3⋅⎜────────────⎟                                     p_bo,6  p_bo,5⋅⎜────────────⎟      ⎟                  ⎥\n",
       "⎢⎜              ⎛r_ij(xᵢ, yᵢ)⎞               ⎝     r₀     ⎠                       ⎛r_ij(xᵢ, yᵢ)⎞               ⎝  r_0,\\pi   ⎠                       ⎛r_ij(xᵢ, yᵢ)⎞               ⎝ r_0,\\pi\\pi ⎠      ⎟  ∂               ⎥\n",
       "⎢⎜p_bo,1⋅p_bo,2⋅⎜────────────⎟      ⋅ℯ                            + p_bo,3⋅p_bo,4⋅⎜────────────⎟      ⋅ℯ                            + p_bo,5⋅p_bo,6⋅⎜────────────⎟      ⋅ℯ                           ⎟⋅───(r_ij(xᵢ, yᵢ))⎥\n",
       "⎢⎝              ⎝     r₀     ⎠                                                    ⎝  r_0,\\pi   ⎠                                                    ⎝ r_0,\\pi\\pi ⎠                                   ⎠ ∂yᵢ              ⎥\n",
       "⎢───────────────────────────────────────────────────────────────────────────────────────────────────────────────────────────────────────────────────────────────────────────────────────────────────────────────────────⎥\n",
       "⎣                                                                                                      r_ij(xᵢ, yᵢ)                                                                                                     ⎦"
      ]
     },
     "execution_count": 35,
     "metadata": {},
     "output_type": "execute_result"
    }
   ],
   "source": [
    "diff(BOʼ(r_ij(x_i, y_i)), i).simplify()"
   ]
  },
  {
   "cell_type": "code",
   "execution_count": 9,
   "id": "1654f0b3",
   "metadata": {},
   "outputs": [
    {
     "data": {
      "image/png": "[encoded data removed]",
      "text/latex": [
       "$\\displaystyle \\Deltaʼ_{i}{\\left(x_{i},y_{i} \\right)} = - Val_{i} + \\sum_{j=1}^{n_{bond}} \\operatorname{BOʼ_{ij}}{\\left(x_{i},y_{i} \\right)}$"
      ],
      "text/plain": [
       "                           n_{bond}               \n",
       "                             ___                  \n",
       "                             ╲                    \n",
       "                              ╲                   \n",
       "\\Deltaʼᵢ(xᵢ, yᵢ) = -Valᵢ +    ╱     BOʼ_ij(xᵢ, yᵢ)\n",
       "                             ╱                    \n",
       "                             ‾‾‾                  \n",
       "                            j = 1                 "
      ]
     },
     "execution_count": 9,
     "metadata": {},
     "output_type": "execute_result"
    }
   ],
   "source": [
    "Deltaʼ = lambda BOʼij, Val_i: Sum(BOʼij, (Symbol('j'), 1, nbond)) - Val_i\n",
    "Deltaʼi = Function('\\Deltaʼ_i')\n",
    "Deltaʼj = Function('\\Deltaʼ_j')\n",
    "Eq(Deltaʼi(x_i, y_i), Deltaʼ(BOʼij(x_i, y_i), Val_i))"
   ]
  },
  {
   "cell_type": "code",
   "execution_count": 46,
   "id": "6e8aa683",
   "metadata": {},
   "outputs": [
    {
     "data": {
      "text/latex": [
       "$\\displaystyle \\left[\\begin{matrix}\\sum_{j=1}^{n_{bond}} \\frac{\\partial}{\\partial x_{i}} \\operatorname{BOʼ_{ij}}{\\left(x_{i},y_{i} \\right)}\\\\\\sum_{j=1}^{n_{bond}} \\frac{\\partial}{\\partial y_{i}} \\operatorname{BOʼ_{ij}}{\\left(x_{i},y_{i} \\right)}\\end{matrix}\\right]$"
      ],
      "text/plain": [
       "⎡n_{bond}                    ⎤\n",
       "⎢  ____                      ⎥\n",
       "⎢  ╲                         ⎥\n",
       "⎢   ╲                        ⎥\n",
       "⎢    ╲     ∂                 ⎥\n",
       "⎢    ╱    ───(BOʼ_ij(xᵢ, yᵢ))⎥\n",
       "⎢   ╱     ∂xᵢ                ⎥\n",
       "⎢  ╱                         ⎥\n",
       "⎢  ‾‾‾‾                      ⎥\n",
       "⎢ j = 1                      ⎥\n",
       "⎢                            ⎥\n",
       "⎢n_{bond}                    ⎥\n",
       "⎢  ____                      ⎥\n",
       "⎢  ╲                         ⎥\n",
       "⎢   ╲                        ⎥\n",
       "⎢    ╲     ∂                 ⎥\n",
       "⎢    ╱    ───(BOʼ_ij(xᵢ, yᵢ))⎥\n",
       "⎢   ╱     ∂yᵢ                ⎥\n",
       "⎢  ╱                         ⎥\n",
       "⎢  ‾‾‾‾                      ⎥\n",
       "⎣ j = 1                      ⎦"
      ]
     },
     "execution_count": 46,
     "metadata": {},
     "output_type": "execute_result"
    }
   ],
   "source": [
    "# don't simplify, sympy doesn't know that BO'ij depends on j\n",
    "diff(Deltaʼ(BOʼij(x_i, y_i), Val_i), i)"
   ]
  },
  {
   "cell_type": "code",
   "execution_count": 11,
   "id": "3e923934",
   "metadata": {},
   "outputs": [
    {
     "data": {
      "image/png": "[encoded data removed]",
      "text/latex": [
       "$\\displaystyle \\operatorname{f_{5}}{\\left(x_{i},y_{i} \\right)} = \\frac{1}{e^{- \\lambda_{3} \\left(\\lambda_{4} \\operatorname{BOʼ_{ij}}^{2}{\\left(x_{i},y_{i} \\right)} - \\Deltaʼ_{j}{\\left(x_{i},y_{i} \\right)}\\right) + \\lambda_{5}} + 1}$"
      ],
      "text/plain": [
       "                                                 1                                    \n",
       "f₅(xᵢ, yᵢ) = ─────────────────────────────────────────────────────────────────────────\n",
       "                         ⎛               2                            ⎞               \n",
       "              - \\lambda₃⋅⎝\\lambda₄⋅BOʼ_ij (xᵢ, yᵢ) - \\Deltaʼ_j(xᵢ, yᵢ)⎠ + \\lambda₅    \n",
       "             ℯ                                                                     + 1"
      ]
     },
     "execution_count": 11,
     "metadata": {},
     "output_type": "execute_result"
    }
   ],
   "source": [
    "# crude approximation: if x < 1/3sqrt(a) then 0, else 1\n",
    "f5 = lambda Deltaʼj, BOʼij: 1/(1 + exp(-lambda3 * (lambda4 * BOʼij**2 - Deltaʼj) + lambda5))\n",
    "f5ij = Function('f_5')\n",
    "Eq(f5ij(x_i, y_i), f5(Deltaʼj(x_i, y_i), BOʼij(x_i, y_i)))"
   ]
  },
  {
   "cell_type": "code",
   "execution_count": 12,
   "id": "71077f7c",
   "metadata": {},
   "outputs": [
    {
     "data": {
      "text/latex": [
       "$\\displaystyle \\left[\\begin{matrix}\\frac{\\lambda_{3} \\left(2 \\lambda_{4} \\Deltaʼ_{j}{\\left(x_{i},y_{i} \\right)} \\frac{\\partial}{\\partial x_{i}} \\Deltaʼ_{j}{\\left(x_{i},y_{i} \\right)} - \\frac{\\partial}{\\partial x_{i}} \\operatorname{BOʼ_{ij}}{\\left(x_{i},y_{i} \\right)}\\right)}{4 \\cosh^{2}{\\left(\\frac{\\lambda_{3} \\left(\\lambda_{4} \\Deltaʼ_{j}^{2}{\\left(x_{i},y_{i} \\right)} - \\operatorname{BOʼ_{ij}}{\\left(x_{i},y_{i} \\right)}\\right)}{2} - \\frac{\\lambda_{5}}{2} \\right)}}\\\\\\frac{\\lambda_{3} \\left(2 \\lambda_{4} \\Deltaʼ_{j}{\\left(x_{i},y_{i} \\right)} \\frac{\\partial}{\\partial y_{i}} \\Deltaʼ_{j}{\\left(x_{i},y_{i} \\right)} - \\frac{\\partial}{\\partial y_{i}} \\operatorname{BOʼ_{ij}}{\\left(x_{i},y_{i} \\right)}\\right)}{4 \\cosh^{2}{\\left(\\frac{\\lambda_{3} \\left(\\lambda_{4} \\Deltaʼ_{j}^{2}{\\left(x_{i},y_{i} \\right)} - \\operatorname{BOʼ_{ij}}{\\left(x_{i},y_{i} \\right)}\\right)}{2} - \\frac{\\lambda_{5}}{2} \\right)}}\\end{matrix}\\right]$"
      ],
      "text/plain": [
       "⎡         ⎛                              ∂                        ∂                 ⎞⎤\n",
       "⎢\\lambda₃⋅⎜2⋅\\lambda₄⋅\\Deltaʼ_j(xᵢ, yᵢ)⋅───(\\Deltaʼ_j(xᵢ, yᵢ)) - ───(BOʼ_ij(xᵢ, yᵢ))⎟⎥\n",
       "⎢         ⎝                             ∂xᵢ                      ∂xᵢ                ⎠⎥\n",
       "⎢────────────────────────────────────────────────────────────────────────────────────⎥\n",
       "⎢           ⎛         ⎛                  2                         ⎞           ⎞     ⎥\n",
       "⎢          2⎜\\lambda₃⋅⎝\\lambda₄⋅\\Deltaʼ_j (xᵢ, yᵢ) - BOʼ_ij(xᵢ, yᵢ)⎠   \\lambda₅⎟     ⎥\n",
       "⎢    4⋅cosh ⎜─────────────────────────────────────────────────────── - ────────⎟     ⎥\n",
       "⎢           ⎝                           2                                 2    ⎠     ⎥\n",
       "⎢                                                                                    ⎥\n",
       "⎢         ⎛                              ∂                        ∂                 ⎞⎥\n",
       "⎢\\lambda₃⋅⎜2⋅\\lambda₄⋅\\Deltaʼ_j(xᵢ, yᵢ)⋅───(\\Deltaʼ_j(xᵢ, yᵢ)) - ───(BOʼ_ij(xᵢ, yᵢ))⎟⎥\n",
       "⎢         ⎝                             ∂yᵢ                      ∂yᵢ                ⎠⎥\n",
       "⎢────────────────────────────────────────────────────────────────────────────────────⎥\n",
       "⎢           ⎛         ⎛                  2                         ⎞           ⎞     ⎥\n",
       "⎢          2⎜\\lambda₃⋅⎝\\lambda₄⋅\\Deltaʼ_j (xᵢ, yᵢ) - BOʼ_ij(xᵢ, yᵢ)⎠   \\lambda₅⎟     ⎥\n",
       "⎢    4⋅cosh ⎜─────────────────────────────────────────────────────── - ────────⎟     ⎥\n",
       "⎣           ⎝                           2                                 2    ⎠     ⎦"
      ]
     },
     "execution_count": 12,
     "metadata": {},
     "output_type": "execute_result"
    }
   ],
   "source": [
    "diff(f5(BOʼij(x_i, y_i), Deltaʼj(x_i, y_i)), i).simplify()"
   ]
  },
  {
   "cell_type": "code",
   "execution_count": 13,
   "id": "d01adad7",
   "metadata": {},
   "outputs": [],
   "source": [
    "# f4 is really the same as f5 with Deltaʼi instead of Deltaʼj as argument\n",
    "f4 = f5\n",
    "f4ij = Function('f_4')"
   ]
  },
  {
   "cell_type": "code",
   "execution_count": 14,
   "id": "7da82d65",
   "metadata": {},
   "outputs": [
    {
     "data": {
      "image/png": "[encoded data removed]",
      "text/latex": [
       "$\\displaystyle \\operatorname{f_{3}}{\\left(x_{i},y_{i} \\right)} = \\frac{\\log{\\left(0.5 e^{- \\lambda_{2} \\Deltaʼ_{j}{\\left(x_{i},y_{i} \\right)}} + 0.5 e^{- \\lambda_{2} \\Deltaʼ_{i}{\\left(x_{i},y_{i} \\right)}} \\right)}}{\\lambda_{2}}$"
      ],
      "text/plain": [
       "                ⎛     -\\lambda₂⋅\\Deltaʼ_j(xᵢ, yᵢ)        -\\lambda₂⋅\\Deltaʼᵢ(xᵢ, yᵢ)⎞\n",
       "             log⎝0.5⋅ℯ                            + 0.5⋅ℯ                          ⎠\n",
       "f₃(xᵢ, yᵢ) = ───────────────────────────────────────────────────────────────────────\n",
       "                                             \\lambda₂                               "
      ]
     },
     "execution_count": 14,
     "metadata": {},
     "output_type": "execute_result"
    }
   ],
   "source": [
    "# decent approximation: if Deltaʼi < Deltaʼj then -x, else -Deltaʼj\n",
    "f3 = lambda Deltaʼi, Deltaʼj: 1/lambda2 * ln(1/2 * (exp(-lambda2 * Deltaʼi) + exp(-lambda2 * Deltaʼj)))\n",
    "f3ij = Function('f_3')\n",
    "Eq(f3ij(x_i, y_i), f3(Deltaʼi(x_i, y_i), Deltaʼj(x_i, y_i)))"
   ]
  },
  {
   "cell_type": "code",
   "execution_count": 15,
   "id": "989ff398",
   "metadata": {},
   "outputs": [
    {
     "data": {
      "text/latex": [
       "$\\displaystyle \\left[\\begin{matrix}- \\frac{1.0 e^{\\lambda_{2} \\Deltaʼ_{i}{\\left(x_{i},y_{i} \\right)}} \\frac{\\partial}{\\partial x_{i}} \\Deltaʼ_{j}{\\left(x_{i},y_{i} \\right)} + 1.0 e^{\\lambda_{2} \\Deltaʼ_{j}{\\left(x_{i},y_{i} \\right)}} \\frac{\\partial}{\\partial x_{i}} \\Deltaʼ_{i}{\\left(x_{i},y_{i} \\right)}}{e^{\\lambda_{2} \\Deltaʼ_{i}{\\left(x_{i},y_{i} \\right)}} + e^{\\lambda_{2} \\Deltaʼ_{j}{\\left(x_{i},y_{i} \\right)}}}\\\\- \\frac{1.0 e^{\\lambda_{2} \\Deltaʼ_{i}{\\left(x_{i},y_{i} \\right)}} \\frac{\\partial}{\\partial y_{i}} \\Deltaʼ_{j}{\\left(x_{i},y_{i} \\right)} + 1.0 e^{\\lambda_{2} \\Deltaʼ_{j}{\\left(x_{i},y_{i} \\right)}} \\frac{\\partial}{\\partial y_{i}} \\Deltaʼ_{i}{\\left(x_{i},y_{i} \\right)}}{e^{\\lambda_{2} \\Deltaʼ_{i}{\\left(x_{i},y_{i} \\right)}} + e^{\\lambda_{2} \\Deltaʼ_{j}{\\left(x_{i},y_{i} \\right)}}}\\end{matrix}\\right]$"
      ],
      "text/plain": [
       "⎡ ⎛     \\lambda₂⋅\\Deltaʼᵢ(xᵢ, yᵢ)  ∂                            \\lambda₂⋅\\Deltaʼ_j(xᵢ, yᵢ)  ∂                   ⎞ ⎤\n",
       "⎢-⎜1.0⋅ℯ                         ⋅───(\\Deltaʼ_j(xᵢ, yᵢ)) + 1.0⋅ℯ                          ⋅───(\\Deltaʼᵢ(xᵢ, yᵢ))⎟ ⎥\n",
       "⎢ ⎝                               ∂xᵢ                                                      ∂xᵢ                  ⎠ ⎥\n",
       "⎢─────────────────────────────────────────────────────────────────────────────────────────────────────────────────⎥\n",
       "⎢                              \\lambda₂⋅\\Deltaʼᵢ(xᵢ, yᵢ)    \\lambda₂⋅\\Deltaʼ_j(xᵢ, yᵢ)                            ⎥\n",
       "⎢                             ℯ                          + ℯ                                                      ⎥\n",
       "⎢                                                                                                                 ⎥\n",
       "⎢ ⎛     \\lambda₂⋅\\Deltaʼᵢ(xᵢ, yᵢ)  ∂                            \\lambda₂⋅\\Deltaʼ_j(xᵢ, yᵢ)  ∂                   ⎞ ⎥\n",
       "⎢-⎜1.0⋅ℯ                         ⋅───(\\Deltaʼ_j(xᵢ, yᵢ)) + 1.0⋅ℯ                          ⋅───(\\Deltaʼᵢ(xᵢ, yᵢ))⎟ ⎥\n",
       "⎢ ⎝                               ∂yᵢ                                                      ∂yᵢ                  ⎠ ⎥\n",
       "⎢─────────────────────────────────────────────────────────────────────────────────────────────────────────────────⎥\n",
       "⎢                              \\lambda₂⋅\\Deltaʼᵢ(xᵢ, yᵢ)    \\lambda₂⋅\\Deltaʼ_j(xᵢ, yᵢ)                            ⎥\n",
       "⎣                             ℯ                          + ℯ                                                      ⎦"
      ]
     },
     "execution_count": 15,
     "metadata": {},
     "output_type": "execute_result"
    }
   ],
   "source": [
    "diff(f3(Deltaʼi(x_i, y_i), Deltaʼj(x_i, y_i)), i).simplify()"
   ]
  },
  {
   "cell_type": "code",
   "execution_count": 16,
   "id": "9867af37",
   "metadata": {},
   "outputs": [
    {
     "data": {
      "image/png": "[encoded data removed]",
      "text/latex": [
       "$\\displaystyle \\operatorname{f_{2}}{\\left(x_{i},y_{i} \\right)} = e^{- \\lambda_{1} \\Deltaʼ_{j}{\\left(x_{i},x_{j} \\right)}} + e^{- \\lambda_{1} \\Deltaʼ_{i}{\\left(x_{i},y_{i} \\right)}}$"
      ],
      "text/plain": [
       "              -\\lambda₁⋅\\Deltaʼ_j(xᵢ, x_j)    -\\lambda₁⋅\\Deltaʼᵢ(xᵢ, yᵢ)\n",
       "f₂(xᵢ, yᵢ) = ℯ                             + ℯ                          "
      ]
     },
     "execution_count": 16,
     "metadata": {},
     "output_type": "execute_result"
    }
   ],
   "source": [
    "f2 = lambda Deltaʼi, Deltaʼj: exp(-lambda1 * Deltaʼi) + exp(-lambda1 * Deltaʼj)\n",
    "f2ij = Function('f_2')\n",
    "Eq(f2ij(x_i, y_i), f2(Deltaʼi(x_i, y_i), Deltaʼj(x_i, x_j)))"
   ]
  },
  {
   "cell_type": "code",
   "execution_count": 17,
   "id": "0f012354",
   "metadata": {},
   "outputs": [
    {
     "data": {
      "text/latex": [
       "$\\displaystyle \\left[\\begin{matrix}- \\lambda_{1} e^{- \\lambda_{1} \\Deltaʼ_{j}{\\left(x_{i},y_{i} \\right)}} \\frac{\\partial}{\\partial x_{i}} \\Deltaʼ_{j}{\\left(x_{i},y_{i} \\right)} - \\lambda_{1} e^{- \\lambda_{1} \\Deltaʼ_{i}{\\left(x_{i},y_{i} \\right)}} \\frac{\\partial}{\\partial x_{i}} \\Deltaʼ_{i}{\\left(x_{i},y_{i} \\right)}\\\\- \\lambda_{1} e^{- \\lambda_{1} \\Deltaʼ_{j}{\\left(x_{i},y_{i} \\right)}} \\frac{\\partial}{\\partial y_{i}} \\Deltaʼ_{j}{\\left(x_{i},y_{i} \\right)} - \\lambda_{1} e^{- \\lambda_{1} \\Deltaʼ_{i}{\\left(x_{i},y_{i} \\right)}} \\frac{\\partial}{\\partial y_{i}} \\Deltaʼ_{i}{\\left(x_{i},y_{i} \\right)}\\end{matrix}\\right]$"
      ],
      "text/plain": [
       "⎡            -\\lambda₁⋅\\Deltaʼ_j(xᵢ, yᵢ)  ∂                                 -\\lambda₁⋅\\Deltaʼᵢ(xᵢ, yᵢ)  ∂                   ⎤\n",
       "⎢- \\lambda₁⋅ℯ                           ⋅───(\\Deltaʼ_j(xᵢ, yᵢ)) - \\lambda₁⋅ℯ                          ⋅───(\\Deltaʼᵢ(xᵢ, yᵢ))⎥\n",
       "⎢                                        ∂xᵢ                                                           ∂xᵢ                  ⎥\n",
       "⎢                                                                                                                           ⎥\n",
       "⎢            -\\lambda₁⋅\\Deltaʼ_j(xᵢ, yᵢ)  ∂                                 -\\lambda₁⋅\\Deltaʼᵢ(xᵢ, yᵢ)  ∂                   ⎥\n",
       "⎢- \\lambda₁⋅ℯ                           ⋅───(\\Deltaʼ_j(xᵢ, yᵢ)) - \\lambda₁⋅ℯ                          ⋅───(\\Deltaʼᵢ(xᵢ, yᵢ))⎥\n",
       "⎣                                        ∂yᵢ                                                           ∂yᵢ                  ⎦"
      ]
     },
     "execution_count": 17,
     "metadata": {},
     "output_type": "execute_result"
    }
   ],
   "source": [
    "diff(f2(Deltaʼi(x_i, y_i), Deltaʼj(x_i, y_i)), i).simplify()"
   ]
  },
  {
   "cell_type": "code",
   "execution_count": 18,
   "id": "6a5d312a",
   "metadata": {},
   "outputs": [
    {
     "data": {
      "image/png": "[encoded data removed]",
      "text/latex": [
       "$\\displaystyle \\operatorname{f_{1}}{\\left(x_{i},y_{i} \\right)} = \\frac{0.5 \\left(Val_{i} + \\operatorname{f_{2}}{\\left(x_{i},y_{i} \\right)}\\right)}{Val_{i} + \\operatorname{f_{2}}{\\left(x_{i},y_{i} \\right)} + \\operatorname{f_{3}}{\\left(x_{i},y_{i} \\right)}} + \\frac{0.5 \\left(Val_{j} + \\operatorname{f_{2}}{\\left(x_{i},y_{i} \\right)}\\right)}{Val_{j} + \\operatorname{f_{2}}{\\left(x_{i},y_{i} \\right)} + \\operatorname{f_{3}}{\\left(x_{i},y_{i} \\right)}}$"
      ],
      "text/plain": [
       "                0.5⋅(Valᵢ + f₂(xᵢ, yᵢ))           0.5⋅(Val_j + f₂(xᵢ, yᵢ))   \n",
       "f₁(xᵢ, yᵢ) = ────────────────────────────── + ───────────────────────────────\n",
       "             Valᵢ + f₂(xᵢ, yᵢ) + f₃(xᵢ, yᵢ)   Val_j + f₂(xᵢ, yᵢ) + f₃(xᵢ, yᵢ)"
      ]
     },
     "execution_count": 18,
     "metadata": {},
     "output_type": "execute_result"
    }
   ],
   "source": [
    "f1 = lambda Deltaʼi, Deltaʼj: 1/2 * \\\n",
    "  ((Val_i + f2ij(x_i, y_i))/(Val_i + f2ij(x_i, y_i) + f3ij(x_i, y_i)) +\\\n",
    "   (Val_j + f2ij(x_i, y_i))/(Val_j + f2ij(x_i, y_i) + f3ij(x_i, y_i)))\n",
    "f1ij = Function('f_1')\n",
    "Eq(f1ij(x_i, y_i), f1(Deltaʼi(x_i, y_i), Deltaʼj(x_i, x_j)))"
   ]
  },
  {
   "cell_type": "code",
   "execution_count": 19,
   "id": "a4baaae8",
   "metadata": {
    "scrolled": false
   },
   "outputs": [
    {
     "data": {
      "text/latex": [
       "$\\displaystyle \\left[\\begin{matrix}- \\frac{0.5 Val_{i} \\frac{\\partial}{\\partial x_{i}} \\operatorname{f_{3}}{\\left(x_{i},y_{i} \\right)}}{\\left(Val_{i} + \\operatorname{f_{2}}{\\left(x_{i},y_{i} \\right)} + \\operatorname{f_{3}}{\\left(x_{i},y_{i} \\right)}\\right)^{2}} - \\frac{0.5 Val_{j} \\frac{\\partial}{\\partial x_{i}} \\operatorname{f_{3}}{\\left(x_{i},y_{i} \\right)}}{\\left(Val_{j} + \\operatorname{f_{2}}{\\left(x_{i},y_{i} \\right)} + \\operatorname{f_{3}}{\\left(x_{i},y_{i} \\right)}\\right)^{2}} - \\frac{0.5 \\operatorname{f_{2}}{\\left(x_{i},y_{i} \\right)} \\frac{\\partial}{\\partial x_{i}} \\operatorname{f_{3}}{\\left(x_{i},y_{i} \\right)}}{\\left(Val_{j} + \\operatorname{f_{2}}{\\left(x_{i},y_{i} \\right)} + \\operatorname{f_{3}}{\\left(x_{i},y_{i} \\right)}\\right)^{2}} + \\frac{0.5 \\operatorname{f_{3}}{\\left(x_{i},y_{i} \\right)} \\frac{\\partial}{\\partial x_{i}} \\operatorname{f_{2}}{\\left(x_{i},y_{i} \\right)}}{\\left(Val_{j} + \\operatorname{f_{2}}{\\left(x_{i},y_{i} \\right)} + \\operatorname{f_{3}}{\\left(x_{i},y_{i} \\right)}\\right)^{2}} - \\frac{0.5 \\operatorname{f_{2}}{\\left(x_{i},y_{i} \\right)} \\frac{\\partial}{\\partial x_{i}} \\operatorname{f_{3}}{\\left(x_{i},y_{i} \\right)}}{\\left(Val_{i} + \\operatorname{f_{2}}{\\left(x_{i},y_{i} \\right)} + \\operatorname{f_{3}}{\\left(x_{i},y_{i} \\right)}\\right)^{2}} + \\frac{0.5 \\operatorname{f_{3}}{\\left(x_{i},y_{i} \\right)} \\frac{\\partial}{\\partial x_{i}} \\operatorname{f_{2}}{\\left(x_{i},y_{i} \\right)}}{\\left(Val_{i} + \\operatorname{f_{2}}{\\left(x_{i},y_{i} \\right)} + \\operatorname{f_{3}}{\\left(x_{i},y_{i} \\right)}\\right)^{2}}\\\\- \\frac{0.5 Val_{i} \\frac{\\partial}{\\partial y_{i}} \\operatorname{f_{3}}{\\left(x_{i},y_{i} \\right)}}{\\left(Val_{i} + \\operatorname{f_{2}}{\\left(x_{i},y_{i} \\right)} + \\operatorname{f_{3}}{\\left(x_{i},y_{i} \\right)}\\right)^{2}} - \\frac{0.5 Val_{j} \\frac{\\partial}{\\partial y_{i}} \\operatorname{f_{3}}{\\left(x_{i},y_{i} \\right)}}{\\left(Val_{j} + \\operatorname{f_{2}}{\\left(x_{i},y_{i} \\right)} + \\operatorname{f_{3}}{\\left(x_{i},y_{i} \\right)}\\right)^{2}} - \\frac{0.5 \\operatorname{f_{2}}{\\left(x_{i},y_{i} \\right)} \\frac{\\partial}{\\partial y_{i}} \\operatorname{f_{3}}{\\left(x_{i},y_{i} \\right)}}{\\left(Val_{j} + \\operatorname{f_{2}}{\\left(x_{i},y_{i} \\right)} + \\operatorname{f_{3}}{\\left(x_{i},y_{i} \\right)}\\right)^{2}} + \\frac{0.5 \\operatorname{f_{3}}{\\left(x_{i},y_{i} \\right)} \\frac{\\partial}{\\partial y_{i}} \\operatorname{f_{2}}{\\left(x_{i},y_{i} \\right)}}{\\left(Val_{j} + \\operatorname{f_{2}}{\\left(x_{i},y_{i} \\right)} + \\operatorname{f_{3}}{\\left(x_{i},y_{i} \\right)}\\right)^{2}} - \\frac{0.5 \\operatorname{f_{2}}{\\left(x_{i},y_{i} \\right)} \\frac{\\partial}{\\partial y_{i}} \\operatorname{f_{3}}{\\left(x_{i},y_{i} \\right)}}{\\left(Val_{i} + \\operatorname{f_{2}}{\\left(x_{i},y_{i} \\right)} + \\operatorname{f_{3}}{\\left(x_{i},y_{i} \\right)}\\right)^{2}} + \\frac{0.5 \\operatorname{f_{3}}{\\left(x_{i},y_{i} \\right)} \\frac{\\partial}{\\partial y_{i}} \\operatorname{f_{2}}{\\left(x_{i},y_{i} \\right)}}{\\left(Val_{i} + \\operatorname{f_{2}}{\\left(x_{i},y_{i} \\right)} + \\operatorname{f_{3}}{\\left(x_{i},y_{i} \\right)}\\right)^{2}}\\end{matrix}\\right]$"
      ],
      "text/plain": [
       "⎡                 ∂                                   ∂                                       ∂                                    ∂                                    ∂                                   ∂              ⎤\n",
       "⎢       0.5⋅Valᵢ⋅───(f₃(xᵢ, yᵢ))           0.5⋅Val_j⋅───(f₃(xᵢ, yᵢ))          0.5⋅f₂(xᵢ, yᵢ)⋅───(f₃(xᵢ, yᵢ))       0.5⋅f₃(xᵢ, yᵢ)⋅───(f₂(xᵢ, yᵢ))       0.5⋅f₂(xᵢ, yᵢ)⋅───(f₃(xᵢ, yᵢ))      0.5⋅f₃(xᵢ, yᵢ)⋅───(f₂(xᵢ, yᵢ)) ⎥\n",
       "⎢                ∂xᵢ                                 ∂xᵢ                                     ∂xᵢ                                  ∂xᵢ                                  ∂xᵢ                                 ∂xᵢ             ⎥\n",
       "⎢- ───────────────────────────────── - ────────────────────────────────── - ────────────────────────────────── + ────────────────────────────────── - ───────────────────────────────── + ─────────────────────────────────⎥\n",
       "⎢                                  2                                    2                                    2                                    2                                   2                                   2⎥\n",
       "⎢  (Valᵢ + f₂(xᵢ, yᵢ) + f₃(xᵢ, yᵢ))    (Val_j + f₂(xᵢ, yᵢ) + f₃(xᵢ, yᵢ))    (Val_j + f₂(xᵢ, yᵢ) + f₃(xᵢ, yᵢ))    (Val_j + f₂(xᵢ, yᵢ) + f₃(xᵢ, yᵢ))    (Valᵢ + f₂(xᵢ, yᵢ) + f₃(xᵢ, yᵢ))    (Valᵢ + f₂(xᵢ, yᵢ) + f₃(xᵢ, yᵢ)) ⎥\n",
       "⎢                                                                                                                                                                                                                          ⎥\n",
       "⎢                 ∂                                   ∂                                       ∂                                    ∂                                    ∂                                   ∂              ⎥\n",
       "⎢       0.5⋅Valᵢ⋅───(f₃(xᵢ, yᵢ))           0.5⋅Val_j⋅───(f₃(xᵢ, yᵢ))          0.5⋅f₂(xᵢ, yᵢ)⋅───(f₃(xᵢ, yᵢ))       0.5⋅f₃(xᵢ, yᵢ)⋅───(f₂(xᵢ, yᵢ))       0.5⋅f₂(xᵢ, yᵢ)⋅───(f₃(xᵢ, yᵢ))      0.5⋅f₃(xᵢ, yᵢ)⋅───(f₂(xᵢ, yᵢ)) ⎥\n",
       "⎢                ∂yᵢ                                 ∂yᵢ                                     ∂yᵢ                                  ∂yᵢ                                  ∂yᵢ                                 ∂yᵢ             ⎥\n",
       "⎢- ───────────────────────────────── - ────────────────────────────────── - ────────────────────────────────── + ────────────────────────────────── - ───────────────────────────────── + ─────────────────────────────────⎥\n",
       "⎢                                  2                                    2                                    2                                    2                                   2                                   2⎥\n",
       "⎣  (Valᵢ + f₂(xᵢ, yᵢ) + f₃(xᵢ, yᵢ))    (Val_j + f₂(xᵢ, yᵢ) + f₃(xᵢ, yᵢ))    (Val_j + f₂(xᵢ, yᵢ) + f₃(xᵢ, yᵢ))    (Val_j + f₂(xᵢ, yᵢ) + f₃(xᵢ, yᵢ))    (Valᵢ + f₂(xᵢ, yᵢ) + f₃(xᵢ, yᵢ))    (Valᵢ + f₂(xᵢ, yᵢ) + f₃(xᵢ, yᵢ)) ⎦"
      ]
     },
     "execution_count": 19,
     "metadata": {},
     "output_type": "execute_result"
    }
   ],
   "source": [
    "diff(f1(Deltaʼi(x_i, y_i), Deltaʼj(x_i, y_i)), i).simplify()"
   ]
  },
  {
   "cell_type": "code",
   "execution_count": 20,
   "id": "8666381e",
   "metadata": {
    "scrolled": true
   },
   "outputs": [
    {
     "data": {
      "image/png": "[encoded data removed]",
      "text/latex": [
       "$\\displaystyle \\operatorname{BO}{\\left(x_{i},y_{i} \\right)} = \\operatorname{BOʼ_{ij}}{\\left(x_{i},y_{i} \\right)} \\operatorname{f_{1}}{\\left(x_{i},y_{i} \\right)} \\operatorname{f_{4}}{\\left(x_{i},y_{i} \\right)} \\operatorname{f_{5}}{\\left(x_{i},y_{i} \\right)}$"
      ],
      "text/plain": [
       "BO(xᵢ, yᵢ) = BOʼ_ij(xᵢ, yᵢ)⋅f₁(xᵢ, yᵢ)⋅f₄(xᵢ, yᵢ)⋅f₅(xᵢ, yᵢ)"
      ]
     },
     "execution_count": 20,
     "metadata": {},
     "output_type": "execute_result"
    }
   ],
   "source": [
    "# New paper actually multiplies with f1 twice for pi and pipi (but not for sigma)\n",
    "BO = BOʼij(x_i, y_i) * f1ij(x_i, y_i) * f4ij(x_i, y_i) * f5ij(x_i, y_i)\n",
    "BOij = Function('BO')\n",
    "Eq(BOij(x_i, y_i), BO)"
   ]
  },
  {
   "cell_type": "code",
   "execution_count": 21,
   "id": "21f8be71",
   "metadata": {},
   "outputs": [
    {
     "data": {
      "text/latex": [
       "$\\displaystyle \\left[\\begin{matrix}\\operatorname{BOʼ_{ij}}{\\left(x_{i},y_{i} \\right)} \\operatorname{f_{1}}{\\left(x_{i},y_{i} \\right)} \\operatorname{f_{4}}{\\left(x_{i},y_{i} \\right)} \\frac{\\partial}{\\partial x_{i}} \\operatorname{f_{5}}{\\left(x_{i},y_{i} \\right)} + \\operatorname{BOʼ_{ij}}{\\left(x_{i},y_{i} \\right)} \\operatorname{f_{1}}{\\left(x_{i},y_{i} \\right)} \\operatorname{f_{5}}{\\left(x_{i},y_{i} \\right)} \\frac{\\partial}{\\partial x_{i}} \\operatorname{f_{4}}{\\left(x_{i},y_{i} \\right)} + \\operatorname{BOʼ_{ij}}{\\left(x_{i},y_{i} \\right)} \\operatorname{f_{4}}{\\left(x_{i},y_{i} \\right)} \\operatorname{f_{5}}{\\left(x_{i},y_{i} \\right)} \\frac{\\partial}{\\partial x_{i}} \\operatorname{f_{1}}{\\left(x_{i},y_{i} \\right)} + \\operatorname{f_{1}}{\\left(x_{i},y_{i} \\right)} \\operatorname{f_{4}}{\\left(x_{i},y_{i} \\right)} \\operatorname{f_{5}}{\\left(x_{i},y_{i} \\right)} \\frac{\\partial}{\\partial x_{i}} \\operatorname{BOʼ_{ij}}{\\left(x_{i},y_{i} \\right)}\\\\\\operatorname{BOʼ_{ij}}{\\left(x_{i},y_{i} \\right)} \\operatorname{f_{1}}{\\left(x_{i},y_{i} \\right)} \\operatorname{f_{4}}{\\left(x_{i},y_{i} \\right)} \\frac{\\partial}{\\partial y_{i}} \\operatorname{f_{5}}{\\left(x_{i},y_{i} \\right)} + \\operatorname{BOʼ_{ij}}{\\left(x_{i},y_{i} \\right)} \\operatorname{f_{1}}{\\left(x_{i},y_{i} \\right)} \\operatorname{f_{5}}{\\left(x_{i},y_{i} \\right)} \\frac{\\partial}{\\partial y_{i}} \\operatorname{f_{4}}{\\left(x_{i},y_{i} \\right)} + \\operatorname{BOʼ_{ij}}{\\left(x_{i},y_{i} \\right)} \\operatorname{f_{4}}{\\left(x_{i},y_{i} \\right)} \\operatorname{f_{5}}{\\left(x_{i},y_{i} \\right)} \\frac{\\partial}{\\partial y_{i}} \\operatorname{f_{1}}{\\left(x_{i},y_{i} \\right)} + \\operatorname{f_{1}}{\\left(x_{i},y_{i} \\right)} \\operatorname{f_{4}}{\\left(x_{i},y_{i} \\right)} \\operatorname{f_{5}}{\\left(x_{i},y_{i} \\right)} \\frac{\\partial}{\\partial y_{i}} \\operatorname{BOʼ_{ij}}{\\left(x_{i},y_{i} \\right)}\\end{matrix}\\right]$"
      ],
      "text/plain": [
       "⎡                                      ∂                                                      ∂                                                      ∂                                                  ∂                 ⎤\n",
       "⎢BOʼ_ij(xᵢ, yᵢ)⋅f₁(xᵢ, yᵢ)⋅f₄(xᵢ, yᵢ)⋅───(f₅(xᵢ, yᵢ)) + BOʼ_ij(xᵢ, yᵢ)⋅f₁(xᵢ, yᵢ)⋅f₅(xᵢ, yᵢ)⋅───(f₄(xᵢ, yᵢ)) + BOʼ_ij(xᵢ, yᵢ)⋅f₄(xᵢ, yᵢ)⋅f₅(xᵢ, yᵢ)⋅───(f₁(xᵢ, yᵢ)) + f₁(xᵢ, yᵢ)⋅f₄(xᵢ, yᵢ)⋅f₅(xᵢ, yᵢ)⋅───(BOʼ_ij(xᵢ, yᵢ))⎥\n",
       "⎢                                     ∂xᵢ                                                    ∂xᵢ                                                    ∂xᵢ                                                ∂xᵢ                ⎥\n",
       "⎢                                                                                                                                                                                                                         ⎥\n",
       "⎢                                      ∂                                                      ∂                                                      ∂                                                  ∂                 ⎥\n",
       "⎢BOʼ_ij(xᵢ, yᵢ)⋅f₁(xᵢ, yᵢ)⋅f₄(xᵢ, yᵢ)⋅───(f₅(xᵢ, yᵢ)) + BOʼ_ij(xᵢ, yᵢ)⋅f₁(xᵢ, yᵢ)⋅f₅(xᵢ, yᵢ)⋅───(f₄(xᵢ, yᵢ)) + BOʼ_ij(xᵢ, yᵢ)⋅f₄(xᵢ, yᵢ)⋅f₅(xᵢ, yᵢ)⋅───(f₁(xᵢ, yᵢ)) + f₁(xᵢ, yᵢ)⋅f₄(xᵢ, yᵢ)⋅f₅(xᵢ, yᵢ)⋅───(BOʼ_ij(xᵢ, yᵢ))⎥\n",
       "⎣                                     ∂yᵢ                                                    ∂yᵢ                                                    ∂yᵢ                                                ∂yᵢ                ⎦"
      ]
     },
     "execution_count": 21,
     "metadata": {},
     "output_type": "execute_result"
    }
   ],
   "source": [
    "diff(BO, i)"
   ]
  },
  {
   "cell_type": "code",
   "execution_count": 22,
   "id": "cf6592e8",
   "metadata": {},
   "outputs": [
    {
     "data": {
      "image/png": "[encoded data removed]",
      "text/latex": [
       "$\\displaystyle \\operatorname{E_{bond}}{\\left(x_{i},y_{i} \\right)} = - De \\operatorname{BO}{\\left(x_{i},y_{i} \\right)}$"
      ],
      "text/plain": [
       "E_bond(xᵢ, yᵢ) = -De⋅BO(xᵢ, yᵢ)"
      ]
     },
     "execution_count": 22,
     "metadata": {},
     "output_type": "execute_result"
    }
   ],
   "source": [
    "# very good approximation:\n",
    "Ebond = lambda BOij: -De * BOij\n",
    "Ebondij = Function('E_bond')\n",
    "Eq(Ebondij(x_i, y_i), Ebond(BOij(x_i, y_i)))"
   ]
  },
  {
   "cell_type": "code",
   "execution_count": 47,
   "id": "afa7e1a4",
   "metadata": {},
   "outputs": [
    {
     "data": {
      "text/latex": [
       "$\\displaystyle \\left[\\begin{matrix}- De \\frac{\\partial}{\\partial x_{i}} \\operatorname{BO}{\\left(x_{i},y_{i} \\right)}\\\\- De \\frac{\\partial}{\\partial y_{i}} \\operatorname{BO}{\\left(x_{i},y_{i} \\right)}\\end{matrix}\\right]$"
      ],
      "text/plain": [
       "⎡     ∂             ⎤\n",
       "⎢-De⋅───(BO(xᵢ, yᵢ))⎥\n",
       "⎢    ∂xᵢ            ⎥\n",
       "⎢                   ⎥\n",
       "⎢     ∂             ⎥\n",
       "⎢-De⋅───(BO(xᵢ, yᵢ))⎥\n",
       "⎣    ∂yᵢ            ⎦"
      ]
     },
     "execution_count": 47,
     "metadata": {},
     "output_type": "execute_result"
    }
   ],
   "source": [
    "diff(Ebond(BOij(x_i, y_i)), i).simplify()"
   ]
  },
  {
   "cell_type": "code",
   "execution_count": 54,
   "id": "023c9e2b",
   "metadata": {},
   "outputs": [
    {
     "data": {
      "image/png": "[encoded data removed]",
      "text/latex": [
       "$\\displaystyle \\operatorname{f_{13}}{\\left(x_{i},y_{i} \\right)} = \\left(\\left(\\frac{1}{\\gamma_{w,ij}}\\right)^{\\lambda_{28}} + \\operatorname{r_{ij}}^{\\lambda_{28}}{\\left(x_{i},y_{i} \\right)}\\right)^{\\frac{1}{\\lambda_{28}}}$"
      ],
      "text/plain": [
       "                          ________________________________________________\n",
       "                         ╱              \\lambda₂₈                         \n",
       "                        ╱  ⎛     1     ⎞                \\lambda₂₈         \n",
       "f₁₃(xᵢ, yᵢ) = \\lambda₂₈╱   ⎜───────────⎟          + r_ij         (xᵢ, yᵢ) \n",
       "                     ╲╱    ⎝\\gamma_w,ij⎠                                  "
      ]
     },
     "execution_count": 54,
     "metadata": {},
     "output_type": "execute_result"
    }
   ],
   "source": [
    "# let's do van der waals\n",
    "# paper says this also uses lambda29 but that appears to be a typo\n",
    "f13 = lambda rij: (rij**lambda28 + (1/gamma_w)**lambda28) ** (1 / lambda28)\n",
    "f13ij = Function('f_13')\n",
    "Eq(f13ij(x_i, y_i), f13(r_ij(x_i, y_i)))"
   ]
  },
  {
   "cell_type": "code",
   "execution_count": 68,
   "id": "967ab959",
   "metadata": {},
   "outputs": [
    {
     "data": {
      "text/latex": [
       "$\\displaystyle \\left[\\begin{matrix}\\left(\\left(\\frac{1}{\\gamma_{w,ij}}\\right)^{\\lambda_{28}} + \\operatorname{r_{ij}}^{\\lambda_{28}}{\\left(x_{i},y_{i} \\right)}\\right)^{\\frac{1 - \\lambda_{28}}{\\lambda_{28}}} \\operatorname{r_{ij}}^{\\lambda_{28} - 1}{\\left(x_{i},y_{i} \\right)} \\frac{\\partial}{\\partial x_{i}} \\operatorname{r_{ij}}{\\left(x_{i},y_{i} \\right)}\\\\\\left(\\left(\\frac{1}{\\gamma_{w,ij}}\\right)^{\\lambda_{28}} + \\operatorname{r_{ij}}^{\\lambda_{28}}{\\left(x_{i},y_{i} \\right)}\\right)^{\\frac{1 - \\lambda_{28}}{\\lambda_{28}}} \\operatorname{r_{ij}}^{\\lambda_{28} - 1}{\\left(x_{i},y_{i} \\right)} \\frac{\\partial}{\\partial y_{i}} \\operatorname{r_{ij}}{\\left(x_{i},y_{i} \\right)}\\end{matrix}\\right]$"
      ],
      "text/plain": [
       "⎡                                                1 - \\lambda₂₈                                            ⎤\n",
       "⎢                                                ─────────────                                            ⎥\n",
       "⎢                                                  \\lambda₂₈                                              ⎥\n",
       "⎢⎛             \\lambda₂₈                        ⎞                                                         ⎥\n",
       "⎢⎜⎛     1     ⎞                \\lambda₂₈        ⎟                  \\lambda₂₈ - 1          ∂               ⎥\n",
       "⎢⎜⎜───────────⎟          + r_ij         (xᵢ, yᵢ)⎟             ⋅r_ij             (xᵢ, yᵢ)⋅───(r_ij(xᵢ, yᵢ))⎥\n",
       "⎢⎝⎝\\gamma_w,ij⎠                                 ⎠                                        ∂xᵢ              ⎥\n",
       "⎢                                                                                                         ⎥\n",
       "⎢                                                1 - \\lambda₂₈                                            ⎥\n",
       "⎢                                                ─────────────                                            ⎥\n",
       "⎢                                                  \\lambda₂₈                                              ⎥\n",
       "⎢⎛             \\lambda₂₈                        ⎞                                                         ⎥\n",
       "⎢⎜⎛     1     ⎞                \\lambda₂₈        ⎟                  \\lambda₂₈ - 1          ∂               ⎥\n",
       "⎢⎜⎜───────────⎟          + r_ij         (xᵢ, yᵢ)⎟             ⋅r_ij             (xᵢ, yᵢ)⋅───(r_ij(xᵢ, yᵢ))⎥\n",
       "⎣⎝⎝\\gamma_w,ij⎠                                 ⎠                                        ∂yᵢ              ⎦"
      ]
     },
     "execution_count": 68,
     "metadata": {},
     "output_type": "execute_result"
    }
   ],
   "source": [
    "diff(f13(r_ij(x_i, y_i)), i).simplify()"
   ]
  },
  {
   "cell_type": "code",
   "execution_count": 78,
   "id": "4cb7435d",
   "metadata": {},
   "outputs": [
    {
     "data": {
      "image/png": "[encoded data removed]",
      "text/latex": [
       "$\\displaystyle \\operatorname{f_{14}}{\\left(x_{i},y_{i} \\right)} = e^{\\alpha_{ij} m \\left(1 - \\frac{\\operatorname{f_{13}}{\\left(x_{i},y_{i} \\right)}}{r_{vdW,ij}}\\right)}$"
      ],
      "text/plain": [
       "                           ⎛    f₁₃(xᵢ, yᵢ)⎞\n",
       "               \\alpha_ij⋅m⋅⎜1 - ───────────⎟\n",
       "                           ⎝      r_vdW,ij ⎠\n",
       "f₁₄(xᵢ, yᵢ) = ℯ                             "
      ]
     },
     "execution_count": 78,
     "metadata": {},
     "output_type": "execute_result"
    }
   ],
   "source": [
    "f14 = lambda m, frij: exp(m * alpha * (1 - frij / r_vdw))\n",
    "f14ij = Function('f_14')\n",
    "f14aij = Function('f_{14}(1)')\n",
    "f14bij = Function('f_{14}(0.5)')\n",
    "Eq(f14ij(x_i, y_i), f14(Symbol('m'), f13ij(x_i, y_i)))"
   ]
  },
  {
   "cell_type": "code",
   "execution_count": 71,
   "id": "be57c90f",
   "metadata": {},
   "outputs": [
    {
     "data": {
      "text/latex": [
       "$\\displaystyle \\left[\\begin{matrix}- \\frac{\\alpha_{ij} m e^{\\alpha_{ij} m \\left(1 - \\frac{\\operatorname{f_{13}}{\\left(x_{i},y_{i} \\right)}}{r_{vdW,ij}}\\right)} \\frac{\\partial}{\\partial x_{i}} \\operatorname{f_{13}}{\\left(x_{i},y_{i} \\right)}}{r_{vdW,ij}}\\\\- \\frac{\\alpha_{ij} m e^{\\alpha_{ij} m \\left(1 - \\frac{\\operatorname{f_{13}}{\\left(x_{i},y_{i} \\right)}}{r_{vdW,ij}}\\right)} \\frac{\\partial}{\\partial y_{i}} \\operatorname{f_{13}}{\\left(x_{i},y_{i} \\right)}}{r_{vdW,ij}}\\end{matrix}\\right]$"
      ],
      "text/plain": [
       "⎡                          ⎛    f₁₃(xᵢ, yᵢ)⎞                  ⎤\n",
       "⎢              \\alpha_ij⋅m⋅⎜1 - ───────────⎟                  ⎥\n",
       "⎢                          ⎝      r_vdW,ij ⎠  ∂               ⎥\n",
       "⎢-\\alpha_ij⋅m⋅ℯ                             ⋅───(f₁₃(xᵢ, yᵢ)) ⎥\n",
       "⎢                                            ∂xᵢ              ⎥\n",
       "⎢─────────────────────────────────────────────────────────────⎥\n",
       "⎢                           r_vdW,ij                          ⎥\n",
       "⎢                                                             ⎥\n",
       "⎢                          ⎛    f₁₃(xᵢ, yᵢ)⎞                  ⎥\n",
       "⎢              \\alpha_ij⋅m⋅⎜1 - ───────────⎟                  ⎥\n",
       "⎢                          ⎝      r_vdW,ij ⎠  ∂               ⎥\n",
       "⎢-\\alpha_ij⋅m⋅ℯ                             ⋅───(f₁₃(xᵢ, yᵢ)) ⎥\n",
       "⎢                                            ∂yᵢ              ⎥\n",
       "⎢─────────────────────────────────────────────────────────────⎥\n",
       "⎣                           r_vdW,ij                          ⎦"
      ]
     },
     "execution_count": 71,
     "metadata": {},
     "output_type": "execute_result"
    }
   ],
   "source": [
    "diff(f14(Symbol('m'), f13ij(x_i, y_i)), i)"
   ]
  },
  {
   "cell_type": "code",
   "execution_count": 82,
   "id": "4d94beec",
   "metadata": {},
   "outputs": [
    {
     "data": {
      "image/png": "[encoded data removed]",
      "text/latex": [
       "$\\displaystyle \\operatorname{E_{vdW}}{\\left(x_{i},y_{i} \\right)} = \\epsilon_{ij} \\operatorname{f_{14}(1)}{\\left(x_{i},y_{i} \\right)} - 2 \\operatorname{f_{14}(0.5)}{\\left(x_{i},y_{i} \\right)}$"
      ],
      "text/plain": [
       "E_vdW(xᵢ, yᵢ) = \\epsilon_ij⋅f_{14}(1)(xᵢ, yᵢ) - 2⋅f_{14}(0.5)(xᵢ, yᵢ)"
      ]
     },
     "execution_count": 82,
     "metadata": {},
     "output_type": "execute_result"
    }
   ],
   "source": [
    "Evdw = lambda f14aij, f14bij: eps * f14aij - 2 * f14bij\n",
    "Evdwij = Function('E_vdW')\n",
    "Eq(Evdwij(x_i, y_i), Evdw(f14aij(x_i, y_i), f14bij(x_i, y_i)))"
   ]
  },
  {
   "cell_type": "code",
   "execution_count": 83,
   "id": "56bcc08f",
   "metadata": {},
   "outputs": [
    {
     "data": {
      "text/latex": [
       "$\\displaystyle \\left[\\begin{matrix}\\epsilon_{ij} \\frac{\\partial}{\\partial x_{i}} \\operatorname{f_{14}(1)}{\\left(x_{i},y_{i} \\right)} - 2 \\frac{\\partial}{\\partial x_{i}} \\operatorname{f_{14}(0.5)}{\\left(x_{i},y_{i} \\right)}\\\\\\epsilon_{ij} \\frac{\\partial}{\\partial y_{i}} \\operatorname{f_{14}(1)}{\\left(x_{i},y_{i} \\right)} - 2 \\frac{\\partial}{\\partial y_{i}} \\operatorname{f_{14}(0.5)}{\\left(x_{i},y_{i} \\right)}\\end{matrix}\\right]$"
      ],
      "text/plain": [
       "⎡             ∂                          ∂                      ⎤\n",
       "⎢\\epsilon_ij⋅───(f_{14}(1)(xᵢ, yᵢ)) - 2⋅───(f_{14}(0.5)(xᵢ, yᵢ))⎥\n",
       "⎢            ∂xᵢ                        ∂xᵢ                     ⎥\n",
       "⎢                                                               ⎥\n",
       "⎢             ∂                          ∂                      ⎥\n",
       "⎢\\epsilon_ij⋅───(f_{14}(1)(xᵢ, yᵢ)) - 2⋅───(f_{14}(0.5)(xᵢ, yᵢ))⎥\n",
       "⎣            ∂yᵢ                        ∂yᵢ                     ⎦"
      ]
     },
     "execution_count": 83,
     "metadata": {},
     "output_type": "execute_result"
    }
   ],
   "source": [
    "diff(Evdw(f14aij(x_i, y_i), f14bij(x_i, y_i)), i)"
   ]
  }
 ],
 "metadata": {
  "kernelspec": {
   "display_name": "Python 3 (ipykernel)",
   "language": "python",
   "name": "python3"
  },
  "language_info": {
   "codemirror_mode": {
    "name": "ipython",
    "version": 3
   },
   "file_extension": ".py",
   "mimetype": "text/x-python",
   "name": "python",
   "nbconvert_exporter": "python",
   "pygments_lexer": "ipython3",
   "version": "3.10.2"
  }
 },
 "nbformat": 4,
 "nbformat_minor": 5
}
